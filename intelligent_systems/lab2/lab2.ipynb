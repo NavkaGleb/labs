{
 "cells": [
  {
   "attachments": {},
   "cell_type": "markdown",
   "id": "048b70c3",
   "metadata": {},
   "source": [
    "**Навка Гліб, ІПС-41**\n",
    "\n",
    "**Варіант 12**"
   ]
  },
  {
   "attachments": {},
   "cell_type": "markdown",
   "id": "ee1610f0",
   "metadata": {},
   "source": [
    "\n",
    "# Завдання 1"
   ]
  },
  {
   "cell_type": "markdown",
   "id": "ed4438f4",
   "metadata": {},
   "source": [
    "\n",
    "2, 3, 5, 14, 17, 18, 19, 20, 21"
   ]
  },
  {
   "attachments": {},
   "cell_type": "markdown",
   "id": "bee2ad95",
   "metadata": {},
   "source": [
    "## 2\n",
    "\n",
    "Вводиться число n. Розставити 1 та 0 у шаховому порядку, починаючи з 1 в матриці розміром n×n, використовуючи слайсінг"
   ]
  },
  {
   "cell_type": "code",
   "execution_count": 1,
   "id": "624a19f0",
   "metadata": {},
   "outputs": [
    {
     "name": "stdout",
     "output_type": "stream",
     "text": [
      "18.3 µs ± 1.58 µs per loop (mean ± std. dev. of 10 runs, 100 loops each)\n",
      "6.33 µs ± 296 ns per loop (mean ± std. dev. of 10 runs, 100 loops each)\n"
     ]
    }
   ],
   "source": [
    "import numpy as np\n",
    "\n",
    "\n",
    "def task2_iterative(n: int):\n",
    "    zero_start_row = [i % 2 for i in range(n)]\n",
    "    one_start_row = [(i + 1) % 2 for i in range(n)]\n",
    "\n",
    "    result = [[] for _ in range(n)]\n",
    "\n",
    "    result[0:n:2] = [zero_start_row for _ in range(n // 2 + n % 2)]\n",
    "    result[1:n:2] = [one_start_row for _ in range(n // 2)]\n",
    "    \n",
    "    return result\n",
    "\n",
    "\n",
    "def task2_numpy(n: int):\n",
    "    result = np.zeros((n, n), dtype=int)\n",
    "\n",
    "    result[1::2, ::2] = 1\n",
    "    result[::2, 1::2] = 1\n",
    "\n",
    "    return result\n",
    "\n",
    "\n",
    "%timeit -n 100 -r 10 task2_iterative(100)\n",
    "%timeit -n 100 -r 10 task2_numpy(100)"
   ]
  },
  {
   "attachments": {},
   "cell_type": "markdown",
   "id": "9795396b",
   "metadata": {},
   "source": [
    "## 3\n",
    "\n",
    "Вводяться 4 числа n, m, r, c. Вивести масив розміру n×m, в якому в кожному рядку з номером r і в кожному стовпчику з номером c стоять 0, а інші елементи дорівнюють 1."
   ]
  },
  {
   "cell_type": "code",
   "execution_count": 2,
   "id": "c395cee3",
   "metadata": {},
   "outputs": [
    {
     "name": "stdout",
     "output_type": "stream",
     "text": [
      "5.4 ms ± 429 µs per loop (mean ± std. dev. of 10 runs, 100 loops each)\n",
      "30.5 µs ± 8.32 µs per loop (mean ± std. dev. of 10 runs, 100 loops each)\n"
     ]
    }
   ],
   "source": [
    "def task3_iterative(n, m, r, c):\n",
    "    return [[1 if i % r and j % c else 0 for j in range(0, m)] for i in range(0, n)]\n",
    "\n",
    "\n",
    "def task3_numpy(n, m, r, c):\n",
    "    res = np.ones((n, m), dtype=int)\n",
    "    res[::r] = 0\n",
    "    res[::c] = 0\n",
    "    \n",
    "    return res\n",
    "\n",
    "\n",
    "%timeit -n 100 -r 10 task3_iterative(200, 300, 4, 5)\n",
    "%timeit -n 100 -r 10 task3_numpy(200, 300, 4, 5)"
   ]
  },
  {
   "attachments": {},
   "cell_type": "markdown",
   "id": "f34aad02",
   "metadata": {},
   "source": [
    "## 5\n",
    "\n",
    "Вводиться число n. Вивести масив розміру n×n, в якому в рядках з парними індексами стоять 1, а в інших – 0."
   ]
  },
  {
   "cell_type": "code",
   "execution_count": 114,
   "id": "54a415cb",
   "metadata": {},
   "outputs": [
    {
     "name": "stdout",
     "output_type": "stream",
     "text": [
      "129 µs ± 2.11 µs per loop (mean ± std. dev. of 10 runs, 100 loops each)\n",
      "6.94 µs ± 891 ns per loop (mean ± std. dev. of 10 runs, 100 loops each)\n"
     ]
    }
   ],
   "source": [
    "def task5_iterative(n: int):\n",
    "    return [[[(i + 1) % 2] * n] for i in range(n)]\n",
    "\n",
    "\n",
    "def task5_numpy(n: int):\n",
    "    result = np.zeros((n, n), dtype=int)\n",
    "    result[::2] = np.ones(n, dtype=int)\n",
    "\n",
    "\n",
    "%timeit -n 100 -r 10 task5_iterative(200)\n",
    "%timeit -n 100 -r 10 task5_numpy(200)"
   ]
  },
  {
   "attachments": {},
   "cell_type": "markdown",
   "id": "9498ff1e",
   "metadata": {},
   "source": [
    "## 14\n",
    "\n",
    "Розмістити на полі 8×8 нулі та одиниці в шахматному порядку, використовуючи функцію numpy tile()."
   ]
  },
  {
   "cell_type": "code",
   "execution_count": 113,
   "metadata": {},
   "outputs": [
    {
     "name": "stdout",
     "output_type": "stream",
     "text": [
      "1.54 µs ± 33.4 ns per loop (mean ± std. dev. of 10 runs, 100 loops each)\n",
      "5.53 µs ± 379 ns per loop (mean ± std. dev. of 10 runs, 100 loops each)\n"
     ]
    }
   ],
   "source": [
    "def task14_iterative():\n",
    "    n = 8\n",
    "    return [[0, 1] * (n // 2) if i % 2 == 0 else [1, 0] * (n // 2) for i in range(n)]\n",
    "\n",
    "\n",
    "def task14_numpy():\n",
    "    n = 8\n",
    "    template = np.array([[0, 1], [1, 0]])\n",
    "    \n",
    "    return np.tile(template, (n // 2, n // 2))\n",
    "\n",
    "\n",
    "%timeit -n 100 -r 10 task14_iterative()\n",
    "%timeit -n 100 -r 10 task14_numpy()\n"
   ]
  },
  {
   "attachments": {},
   "cell_type": "markdown",
   "id": "84b98866",
   "metadata": {},
   "source": [
    "## 17\n",
    "\n",
    "Заповнити вектор значеннями від 0 до n. Замінити знаки для всіх значень, що менші за n/2 та більші за 3n/4 на протилежні."
   ]
  },
  {
   "cell_type": "code",
   "execution_count": 110,
   "id": "254d2ba2",
   "metadata": {},
   "outputs": [
    {
     "name": "stdout",
     "output_type": "stream",
     "text": [
      "15.6 µs ± 258 ns per loop (mean ± std. dev. of 10 runs, 100 loops each)\n",
      "7.36 µs ± 1.48 µs per loop (mean ± std. dev. of 10 runs, 100 loops each)\n"
     ]
    }
   ],
   "source": [
    "def task17_iterative(n: int):\n",
    "    result = [i for i in range(n + 1)]\n",
    "    \n",
    "    for i in range(len(result)):\n",
    "        if i < n / 2 or i > 3 * n / 4:\n",
    "            result[i] *= -1\n",
    "\n",
    "    return result\n",
    "        \n",
    "\n",
    "def task17_numpy(n: int):\n",
    "    result = np.arange(n + 1)\n",
    "    result[(result < n / 2) | (result > 3 * n / 4)] *= -1\n",
    "\n",
    "    return result\n",
    "\n",
    "\n",
    "%timeit -n 100 -r 10 task17_iterative(100)\n",
    "%timeit -n 100 -r 10 task17_numpy(100)"
   ]
  },
  {
   "attachments": {},
   "cell_type": "markdown",
   "id": "934124bd",
   "metadata": {},
   "source": [
    "## 18\n",
    "\n",
    "Згенерувати вектор з n випадкових чисел в діапазоні від 0 до 99. Визначити кількість унікальних чисел в послідовності."
   ]
  },
  {
   "cell_type": "code",
   "execution_count": 108,
   "id": "b8110f81",
   "metadata": {},
   "outputs": [
    {
     "name": "stdout",
     "output_type": "stream",
     "text": [
      "73.8 µs ± 3.73 µs per loop (mean ± std. dev. of 10 runs, 100 loops each)\n",
      "19.3 µs ± 766 ns per loop (mean ± std. dev. of 10 runs, 100 loops each)\n"
     ]
    }
   ],
   "source": [
    "import random\n",
    "\n",
    "\n",
    "def task18_iterative(n: int):\n",
    "    return len(set([random.randrange(0, 100) for _ in range(n)]))  \n",
    "\n",
    "\n",
    "def task18_numpy(n: int):\n",
    "    return len(np.unique(np.random.randint(0, 100, n)))\n",
    "\n",
    "\n",
    "%timeit -n 100 -r 10 task18_iterative(200)\n",
    "%timeit -n 100 -r 10 task18_numpy(200)"
   ]
  },
  {
   "attachments": {},
   "cell_type": "markdown",
   "id": "385dbfb7",
   "metadata": {},
   "source": [
    "## 19\n",
    "\n",
    "Згенерувати вектор із n елементів, що рівномірно розміщені на інтервалі (0,1) – тобто обидва кінці інтервалу не включені. Значення вивести до 3 знаків після коми."
   ]
  },
  {
   "cell_type": "code",
   "execution_count": 107,
   "id": "e6a2bd42",
   "metadata": {},
   "outputs": [
    {
     "name": "stdout",
     "output_type": "stream",
     "text": [
      "83.9 µs ± 5.52 µs per loop (mean ± std. dev. of 10 runs, 100 loops each)\n",
      "7.37 µs ± 1.21 µs per loop (mean ± std. dev. of 10 runs, 100 loops each)\n"
     ]
    }
   ],
   "source": [
    "def task19_iterative(n: int):\n",
    "    return [round(i / (n + 1), 3) for i in range(1, n + 1)]\n",
    "\n",
    "\n",
    "def task19_numpy(n: int):\n",
    "    return np.around(np.arange(1, n + 1) / (n + 1), 3)\n",
    "\n",
    "\n",
    "%timeit -n 100 -r 10 task19_iterative(200)\n",
    "%timeit -n 100 -r 10 task19_numpy(200)"
   ]
  },
  {
   "attachments": {},
   "cell_type": "markdown",
   "id": "da2d5886",
   "metadata": {},
   "source": [
    "## 20\n",
    "\n",
    "Згенерувати вектор із n випадкових елементів, що лежать в інтервалі (0,1). Замінити максимальний елемент на 0."
   ]
  },
  {
   "cell_type": "code",
   "execution_count": 109,
   "id": "ece550c9",
   "metadata": {},
   "outputs": [
    {
     "name": "stdout",
     "output_type": "stream",
     "text": [
      "14.6 µs ± 2.41 µs per loop (mean ± std. dev. of 10 runs, 100 loops each)\n",
      "2.86 µs ± 112 ns per loop (mean ± std. dev. of 10 runs, 100 loops each)\n"
     ]
    }
   ],
   "source": [
    "def task20_iterative(n: int):\n",
    "    result = [random.random() for _ in range(n)]\n",
    "    result[result.index(max(result))] = 0\n",
    "\n",
    "    return result\n",
    "\n",
    "\n",
    "def task20_numpy(n: int):\n",
    "    result = np.random.rand(n)\n",
    "    result[result.argmax()] = 0\n",
    "\n",
    "    return result\n",
    "\n",
    "\n",
    "%timeit -n 100 -r 10 task20_iterative(200)\n",
    "%timeit -n 100 -r 10 task20_numpy(200)"
   ]
  },
  {
   "attachments": {},
   "cell_type": "markdown",
   "id": "846b9ddb",
   "metadata": {},
   "source": [
    "## 21\n",
    "\n",
    "Ввести числа n і m. Згенерувати матрицю n×n випадкових цілих елементів з діапазону [0, m]. Замінити всі максимальні елементи цієї матриці на протилежні за знаком."
   ]
  },
  {
   "cell_type": "code",
   "execution_count": 102,
   "id": "b56f7cbd",
   "metadata": {},
   "outputs": [
    {
     "name": "stdout",
     "output_type": "stream",
     "text": [
      "4.51 ms ± 16.7 µs per loop (mean ± std. dev. of 10 runs, 100 loops each)\n",
      "141 µs ± 2.82 µs per loop (mean ± std. dev. of 10 runs, 100 loops each)\n"
     ]
    }
   ],
   "source": [
    "import numpy as np\n",
    "\n",
    "\n",
    "def task21_iterative(n: int, m: int):\n",
    "    result = [[random.randint(0, m) for j in range(n)] for i in range(n)]\n",
    "    max_element = max(max(result[i]) for i in range(n))\n",
    "\n",
    "    for i in range(n):\n",
    "        for j in range(n):\n",
    "            if result[i][j] == max_element:\n",
    "                result[i][j] *= -1\n",
    "\n",
    "    return result\n",
    "\n",
    "\n",
    "def task21_numpy(n: int, m: int):\n",
    "    result = np.random.randint(0, m + 1, size=(n, n))\n",
    "    max_element = np.max(result)\n",
    "    \n",
    "    result[result == max_element] *= -1\n",
    "\n",
    "    return result\n",
    "        \n",
    "\n",
    "%timeit -n 100 -r 10 task21_iterative(100, 10)\n",
    "%timeit -n 100 -r 10 task21_numpy(100, 10)"
   ]
  },
  {
   "attachments": {},
   "cell_type": "markdown",
   "id": "0ce9d0c3",
   "metadata": {},
   "source": [
    "___"
   ]
  },
  {
   "attachments": {},
   "cell_type": "markdown",
   "id": "8a8f9e2a",
   "metadata": {},
   "source": [
    "# Завдання 2"
   ]
  },
  {
   "attachments": {},
   "cell_type": "markdown",
   "id": "dafd5b5c",
   "metadata": {},
   "source": [
    "\n",
    "Розв'язати систему алгебраїчних рівнянь за допомогою формул Крамера і виконати перевірку за допомогою:\n",
    "* матричного множення\n",
    "* оберненої матриці\n",
    "* функції `numpy.linalg.solve()`\n",
    "\n",
    "Порівняти всі рішення за допомогою функції `numpy.allclose()`.\n",
    "\n",
    "$$\n",
    "\\begin{cases}\n",
    "x_1 + x_2 - x_3 - x_4 = 0 \\\\\n",
    "x_1 + 2x_3 - x_4 = 2 \\\\\n",
    "x_1 - x_2 - x_4 = -1 \\\\\n",
    "-x_1 + 3x_2 - 2x_3 = 1\n",
    "\\end{cases}\n",
    "$$"
   ]
  },
  {
   "cell_type": "code",
   "execution_count": 97,
   "id": "e111023f",
   "metadata": {},
   "outputs": [
    {
     "name": "stdout",
     "output_type": "stream",
     "text": [
      "Матриця коефіцієнтів\n",
      " [[ 1  1 -1 -1]\n",
      " [ 1  0  2 -1]\n",
      " [ 1 -1  0 -1]\n",
      " [-1  3 -2  0]]\n",
      "\n",
      "Вектор вільних членів\n",
      " [ 0  2 -1  0]\n"
     ]
    }
   ],
   "source": [
    "coefficients = np.array([\n",
    "    [1, 1, -1, -1],\n",
    "    [1, 0, 2, -1],\n",
    "    [1, -1, 0, -1],\n",
    "    [-1, 3, -2, 0]\n",
    "])\n",
    "\n",
    "constant_terms = np.array([0, 2, -1, 0])\n",
    "\n",
    "print(f\"Матриця коефіцієнтів\\n {coefficients}\\n\")\n",
    "print(f\"Вектор вільних членів\\n {constant_terms}\")"
   ]
  },
  {
   "attachments": {},
   "cell_type": "markdown",
   "id": "8a034dbd",
   "metadata": {},
   "source": [
    "### Метод Крамера"
   ]
  },
  {
   "cell_type": "code",
   "execution_count": 98,
   "id": "4225dbbb",
   "metadata": {},
   "outputs": [
    {
     "name": "stdout",
     "output_type": "stream",
     "text": [
      "Розв'язок методом Крамера\n",
      " [1. 1. 1. 1.]\n"
     ]
    }
   ],
   "source": [
    "import numpy as np\n",
    "\n",
    "\n",
    "def cramer_method(coefficients, constant_terms):\n",
    "    determinant = np.linalg.det(coefficients)\n",
    "    size = coefficients.shape[0]\n",
    "    \n",
    "    if np.allclose(determinant, 0):\n",
    "        raise \"Determinant is zero, aborting\"\n",
    "    \n",
    "    result = np.zeros(size)\n",
    "    \n",
    "    for i in range(size):\n",
    "        temp_coefficients = np.copy(coefficients)\n",
    "        temp_coefficients[:, i] = np.copy(constant_terms)\n",
    "        \n",
    "        result[i] = np.linalg.det(temp_coefficients) / determinant   \n",
    "    \n",
    "    return result\n",
    "\n",
    "cramer_solution = cramer_method(coefficients, constant_terms)\n",
    "\n",
    "print(f\"Розв'язок методом Крамера\\n {cramer_solution}\")"
   ]
  },
  {
   "attachments": {},
   "cell_type": "markdown",
   "id": "667cf502",
   "metadata": {},
   "source": [
    "### Матричне множення"
   ]
  },
  {
   "cell_type": "code",
   "execution_count": 99,
   "id": "4d4392c8",
   "metadata": {},
   "outputs": [
    {
     "name": "stdout",
     "output_type": "stream",
     "text": [
      "a * cramer_solution\n",
      " [ 6.66133815e-16  2.00000000e+00 -1.00000000e+00  4.44089210e-16]\n"
     ]
    }
   ],
   "source": [
    "matrix_mul_test = np.dot(coefficients, cramer_solution)\n",
    "\n",
    "assert np.allclose(constant_terms, matrix_mul_test)\n",
    "\n",
    "print(f\"a * cramer_solution\\n {matrix_mul_test}\")\n"
   ]
  },
  {
   "attachments": {},
   "cell_type": "markdown",
   "id": "d2b028ba",
   "metadata": {},
   "source": [
    "### Обернена матриця"
   ]
  },
  {
   "cell_type": "code",
   "execution_count": 100,
   "id": "90bd1e4a",
   "metadata": {},
   "outputs": [
    {
     "name": "stdout",
     "output_type": "stream",
     "text": [
      "a ^ -1 * b\n",
      " [1. 1. 1. 1.]\n"
     ]
    }
   ],
   "source": [
    "inverse_matrix_check = np.dot(np.linalg.inv(coefficients), constant_terms)\n",
    "\n",
    "assert np.allclose(cramer_solution, inverse_matrix_check)\n",
    "\n",
    "print(f\"a ^ -1 * b\\n {inverse_matrix_check}\")"
   ]
  },
  {
   "attachments": {},
   "cell_type": "markdown",
   "id": "2b9dba22",
   "metadata": {},
   "source": [
    "### Розв'язок з використанням `numpy.linalg.solve()`"
   ]
  },
  {
   "cell_type": "code",
   "execution_count": 101,
   "id": "a411333d",
   "metadata": {},
   "outputs": [
    {
     "name": "stdout",
     "output_type": "stream",
     "text": [
      "[1. 1. 1. 1.]\n"
     ]
    }
   ],
   "source": [
    "numpy_test = np.linalg.solve(coefficients, constant_terms)\n",
    "\n",
    "assert np.allclose(numpy_test, cramer_solution)\n",
    "\n",
    "print(numpy_test)"
   ]
  },
  {
   "attachments": {},
   "cell_type": "markdown",
   "id": "37462ffc",
   "metadata": {},
   "source": [
    "___"
   ]
  },
  {
   "attachments": {},
   "cell_type": "markdown",
   "id": "c086d565",
   "metadata": {},
   "source": [
    "# Завдання 3"
   ]
  },
  {
   "attachments": {},
   "cell_type": "markdown",
   "id": "3a33f672",
   "metadata": {},
   "source": [
    "\n",
    "Обчислити значення матричного виразу\n",
    "* з використанням універсальних функцій бібліотеки NumPy\n",
    "* за допомогою ітеративних конструкцій (з використанням циклів, спискових включень тощо)\n",
    "* для обох випадків підрахувати час виконання скрипту та зробити висновок\n",
    "\n",
    "Порівняти всі рішення за допомогою функції `numpy.allclose()`\n",
    "\n",
    "$$\n",
    "A(A^2 - B) - 2(B + A)B\n",
    "$$\n",
    "\n",
    "$$\n",
    "A =\n",
    "\\begin{pmatrix}\n",
    "2 & 3 & 1 \\\\\n",
    "-1 & 2 & 4 \\\\\n",
    "5 & 3 & 0\n",
    "\\end{pmatrix},\n",
    "\n",
    "B = \n",
    "\\begin{pmatrix}\n",
    "2 & 7 & 13 \\\\\n",
    "-1 & 0 & 5 \\\\\n",
    "5 & 13 & 21\n",
    "\\end{pmatrix}\n",
    "$$"
   ]
  },
  {
   "cell_type": "code",
   "execution_count": 78,
   "id": "96256714",
   "metadata": {},
   "outputs": [],
   "source": [
    "a = [\n",
    "    [2, 3, 1],\n",
    "    [-1, 2, 4],\n",
    "    [5, 3, 0]\n",
    "]\n",
    "\n",
    "b = [\n",
    "    [2, 7, 13],\n",
    "    [-1, 0, 5],\n",
    "    [5, 13, 21]\n",
    "]\n",
    "\n",
    "np_a = np.array(a)\n",
    "np_b = np.array(b)\n"
   ]
  },
  {
   "attachments": {},
   "cell_type": "markdown",
   "id": "1e8655fa",
   "metadata": {},
   "source": [
    "### NumPy"
   ]
  },
  {
   "cell_type": "code",
   "execution_count": 86,
   "id": "ccd0e03e",
   "metadata": {
    "scrolled": true
   },
   "outputs": [],
   "source": [
    "def numpy_method():\n",
    "    arg1 = np_a @ np.subtract(np_a @ np_a, np_b)\n",
    "    arg2 = 2 * (np.add(np_b, np_a) @ np_a)\n",
    "\n",
    "    return np.subtract(arg1, arg2)"
   ]
  },
  {
   "attachments": {},
   "cell_type": "markdown",
   "id": "05380aa8",
   "metadata": {},
   "source": [
    "### Ітеративні конструкції"
   ]
  },
  {
   "cell_type": "code",
   "execution_count": 87,
   "id": "97889302",
   "metadata": {},
   "outputs": [],
   "source": [
    "def matrix_mul(a, b):\n",
    "    a_columns = len(a[0])\n",
    "    b_rows = len(b)\n",
    "\n",
    "    assert a_columns == b_rows\n",
    "\n",
    "    return [[sum([x * y for (x, y) in zip(a_row, b_col)]) for b_col in zip(*b)] for a_row in a]\n",
    "    \n",
    "\n",
    "def matrix_add(a, b):\n",
    "    a_rows, a_columns = len(a), len(a[0])\n",
    "    b_rows, b_columns = len(b), len(b[0])\n",
    "\n",
    "    assert a_rows == b_rows and a_columns == b_columns\n",
    "\n",
    "    return [[a[i][j] + b[i][j] for j in range(a_columns)] for i in range(a_rows)]\n",
    "\n",
    "\n",
    "def matrix_sub(a, b):\n",
    "    a_rows, a_columns = len(a), len(a[0])\n",
    "    b_rows, b_columns = len(b), len(b[0])\n",
    "\n",
    "    assert a_rows == b_rows and a_columns == b_columns\n",
    "\n",
    "    return [[a[i][j] - b[i][j] for j in range(a_columns)] for i in range(a_rows)]\n",
    "\n",
    "\n",
    "def scalar_matrix_mul(scalar, matrix):\n",
    "    rows, cols = len(matrix), len(matrix[0])\n",
    "    \n",
    "    return [[matrix[i][j] * scalar for j in range(cols)] for i in range(rows)]\n",
    "\n",
    "\n",
    "def iterative_method():\n",
    "    arg1 = matrix_mul(a, matrix_sub(matrix_mul(a, a), b))\n",
    "    arg2 = scalar_matrix_mul(2, matrix_mul(matrix_add(b, a), a))\n",
    "\n",
    "    return matrix_sub(arg1, arg2)"
   ]
  },
  {
   "attachments": {},
   "cell_type": "markdown",
   "id": "f8c2be40",
   "metadata": {},
   "source": [
    "### Висновок"
   ]
  },
  {
   "cell_type": "code",
   "execution_count": 118,
   "id": "f2ea5726",
   "metadata": {},
   "outputs": [
    {
     "name": "stdout",
     "output_type": "stream",
     "text": [
      "Час виконання:\n",
      "6.72 µs ± 204 ns per loop (mean ± std. dev. of 10 runs, 100 loops each)\n",
      "25.1 µs ± 657 ns per loop (mean ± std. dev. of 10 runs, 100 loops each)\n",
      "\n",
      "NumPy метод\n",
      " [[ -75  -85  -84]\n",
      " [ -40    0  -25]\n",
      " [-147 -171 -137]]\n",
      "\n",
      "Ітеративний метод\n",
      " [[-75, -85, -84], [-40, 0, -25], [-147, -171, -137]]\n",
      "\n",
      "Рівні?  True\n"
     ]
    }
   ],
   "source": [
    "print(\"Час виконання:\")\n",
    "%timeit -n 100 -r 10 numpy_method()\n",
    "%timeit -n 100 -r 10 iterative_method()\n",
    "print()\n",
    "\n",
    "numpy_result = numpy_method()\n",
    "iterative_result = iterative_method()\n",
    "\n",
    "print(f\"NumPy метод\\n {numpy_result}\\n\")\n",
    "print(f\"Ітеративний метод\\n {iterative_result}\\n\")\n",
    "print(f\"Рівні? \", np.allclose(numpy_result, iterative_result))"
   ]
  }
 ],
 "metadata": {
  "kernelspec": {
   "display_name": "Python 3 (ipykernel)",
   "language": "python",
   "name": "python3"
  },
  "language_info": {
   "codemirror_mode": {
    "name": "ipython",
    "version": 3
   },
   "file_extension": ".py",
   "mimetype": "text/x-python",
   "name": "python",
   "nbconvert_exporter": "python",
   "pygments_lexer": "ipython3",
   "version": "3.11.3"
  }
 },
 "nbformat": 4,
 "nbformat_minor": 5
}
